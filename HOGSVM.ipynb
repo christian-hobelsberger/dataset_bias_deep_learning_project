{
 "cells": [
  {
   "cell_type": "code",
   "execution_count": 7,
   "id": "f7e071bc",
   "metadata": {},
   "outputs": [],
   "source": [
    "import os\n",
    "import numpy as np\n",
    "from skimage.io import imread\n",
    "from skimage.transform import resize\n",
    "from skimage.feature import hog\n",
    "from sklearn.model_selection import train_test_split\n",
    "from sklearn.svm import SVC\n",
    "from sklearn.metrics import accuracy_score\n",
    "# importing hog might give a warning"
   ]
  },
  {
   "cell_type": "code",
   "execution_count": 8,
   "id": "99440482",
   "metadata": {},
   "outputs": [
    {
     "name": "stderr",
     "output_type": "stream",
     "text": [
      "C:\\Users\\Sanjit Dasgupta\\AppData\\Local\\Temp\\ipykernel_3544\\4082178092.py:7: FutureWarning: `multichannel` is a deprecated argument name for `hog`. It will be removed in version 1.0. Please use `channel_axis` instead.\n",
      "  hog_feat = hog(img_resized, orientations=9, pixels_per_cell=(8, 8), cells_per_block=(2, 2), multichannel=True)\n"
     ]
    },
    {
     "name": "stdout",
     "output_type": "stream",
     "text": [
      "Accuracy: 0.8457207207207207\n"
     ]
    }
   ],
   "source": [
    "# extracts hog features\n",
    "def load_and_extract_hog(folder_path):\n",
    "    hog_features = []\n",
    "    for filename in os.listdir(folder_path):\n",
    "        img = imread(os.path.join(folder_path, filename))\n",
    "        img_resized = resize(img, (100, 100), anti_aliasing=True)  # Resize image if necessary\n",
    "        hog_feat = hog(img_resized, orientations=9, pixels_per_cell=(8, 8), cells_per_block=(2, 2), multichannel=True)\n",
    "        hog_features.append(hog_feat)\n",
    "    return np.array(hog_features)\n",
    "\n",
    "# Load car trainvtest data\n",
    "train_positive_folder = \"cars_train\"\n",
    "test_positive_folder = \"cars_test\"\n",
    "X_train_positive_hog = load_and_extract_hog(train_positive_folder)\n",
    "X_test_positive_hog = load_and_extract_hog(test_positive_folder)\n",
    "#car labelled 1\n",
    "y_train_positive = np.ones(X_train_positive_hog.shape[0])\n",
    "y_test_positive = np.ones(X_test_positive_hog.shape[0])\n",
    "\n",
    "# Load not car tain/test\n",
    "train_negative_folder = \"notcars_train\"\n",
    "test_negative_folder = \"notcars_test\"\n",
    "X_train_negative_hog = load_and_extract_hog(train_negative_folder)\n",
    "X_test_negative_hog = load_and_extract_hog(test_negative_folder)\n",
    "# not car label 0\n",
    "y_train_negative = np.zeros(X_train_negative_hog.shape[0])\n",
    "y_test_negative = np.zeros(X_test_negative_hog.shape[0])\n",
    "\n",
    "# Combine train positive and negative\n",
    "X_train_hog = np.concatenate((X_train_positive_hog, X_train_negative_hog), axis=0)\n",
    "y_train = np.concatenate((y_train_positive, y_train_negative))\n",
    "\n",
    "# Combine test positive and negative\n",
    "X_test_hog = np.concatenate((X_test_positive_hog, X_test_negative_hog), axis=0)\n",
    "y_test = np.concatenate((y_test_positive, y_test_negative))\n",
    "\n",
    "# Split the data into training and testing sets\n",
    "# You can adjust the test_size and random_state parameters as needed\n",
    "X_train, X_test, y_train, y_test = train_test_split(X_train_hog, y_train, test_size=0.2, random_state=42)\n",
    "\n",
    "# Initialize the SVM model\n",
    "svm_model = SVC(kernel='linear')  # You can change the kernel as needed\n",
    "\n",
    "# Train the SVM model\n",
    "svm_model.fit(X_train, y_train)\n",
    "\n",
    "# Predict on the test data\n",
    "y_pred = svm_model.predict(X_test)\n",
    "\n",
    "# Calculate accuracy\n",
    "accuracy = accuracy_score(y_test, y_pred)\n",
    "print(\"Accuracy:\", accuracy)\n"
   ]
  },
  {
   "cell_type": "code",
   "execution_count": 5,
   "id": "192d3509",
   "metadata": {},
   "outputs": [
    {
     "name": "stdout",
     "output_type": "stream",
     "text": [
      "Number of positive training samples: 396\n",
      "Number of negative training samples: 3384\n",
      "Number of positive testing samples: 99\n",
      "Number of negative testing samples: 847\n"
     ]
    }
   ],
   "source": [
    "print(\"Number of positive training samples:\", len(X_train_positive_hog))\n",
    "print(\"Number of negative training samples:\", len(X_train_negative_hog))\n",
    "print(\"Number of positive testing samples:\", len(X_test_positive_hog))\n",
    "print(\"Number of negative testing samples:\", len(X_test_negative_hog))\n"
   ]
  },
  {
   "cell_type": "code",
   "execution_count": 6,
   "id": "130a3911",
   "metadata": {},
   "outputs": [
    {
     "data": {
      "text/plain": [
       "0.8201058201058201"
      ]
     },
     "execution_count": 6,
     "metadata": {},
     "output_type": "execute_result"
    }
   ],
   "source": [
    "accuracy"
   ]
  },
  {
   "cell_type": "code",
   "execution_count": 11,
   "id": "7ff89046",
   "metadata": {},
   "outputs": [
    {
     "data": {
      "text/plain": [
       "['svm_model.joblib']"
      ]
     },
     "execution_count": 11,
     "metadata": {},
     "output_type": "execute_result"
    }
   ],
   "source": [
    "svm_model_filename = \"svm_model.joblib\"\n",
    "dump(svm_model, svm_model_filename)"
   ]
  },
  {
   "cell_type": "code",
   "execution_count": 10,
   "id": "3541ee79",
   "metadata": {},
   "outputs": [],
   "source": [
    "from joblib import dump"
   ]
  },
  {
   "cell_type": "code",
   "execution_count": null,
   "id": "ca1eb4a0",
   "metadata": {},
   "outputs": [],
   "source": []
  }
 ],
 "metadata": {
  "kernelspec": {
   "display_name": "Python 3 (ipykernel)",
   "language": "python",
   "name": "python3"
  },
  "language_info": {
   "codemirror_mode": {
    "name": "ipython",
    "version": 3
   },
   "file_extension": ".py",
   "mimetype": "text/x-python",
   "name": "python",
   "nbconvert_exporter": "python",
   "pygments_lexer": "ipython3",
   "version": "3.8.16"
  }
 },
 "nbformat": 4,
 "nbformat_minor": 5
}
