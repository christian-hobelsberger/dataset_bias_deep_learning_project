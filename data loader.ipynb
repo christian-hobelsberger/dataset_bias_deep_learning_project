{
 "cells": [
  {
   "cell_type": "code",
   "execution_count": 2,
   "metadata": {},
   "outputs": [],
   "source": [
    "from PIL import Image\n",
    "import glob\n",
    "\n",
    "\n",
    "import os\n"
   ]
  },
  {
   "cell_type": "code",
   "execution_count": 3,
   "metadata": {},
   "outputs": [],
   "source": [
    "# Insert path to data folder containing all image datasets\n",
    "filepath = \".../data/\"\n",
    "\n",
    "msrcPath = filepath + \"msrcorid/\"\n",
    "\n",
    "w = os.walk(msrcPath)\n",
    "all_paths = []\n",
    "\n",
    "\n",
    "for (dirpath, dirnames, filenames) in w:\n",
    "    all_paths.append(dirpath)\n",
    "\n",
    "\n",
    "image_paths = all_paths[:]\n",
    "\n",
    "for dirs in all_paths:\n",
    "    if \".JPG\" not in os.listdir(dirs)[0]:\n",
    "        image_paths.remove(dirs)\n",
    "\n",
    "# print(image_paths)\n",
    "\n",
    "\n",
    "image_list = []\n",
    "label_list = []\n",
    "\n",
    "for current_path in image_paths:\n",
    "    \n",
    "    current_jpgpath = current_path + \"/*.jpg\"\n",
    "    \n",
    "    for images in glob.glob(current_jpgpath): \n",
    "        jpg = Image.open(images)\n",
    "        image_list.append(jpg)\n",
    "        label_list.append(current_path)\n",
    "\n",
    "\n",
    "isSameChar = False\n",
    "\n",
    "idx = 0\n",
    "while not isSameChar:\n",
    "    char = label_list[0][idx]\n",
    "    for label in label_list:\n",
    "        new_char = label[idx]\n",
    "        if new_char != char:\n",
    "            isSameChar = True\n",
    "            cutoff_idx = idx\n",
    "    idx += 1\n",
    "\n",
    "\n",
    "# print(cutoff_idx)\n",
    "\n",
    "\n",
    "for label_idx in range(len(label_list)):\n",
    "    label_list[label_idx] = label_list[label_idx][(cutoff_idx):]\n"
   ]
  },
  {
   "cell_type": "code",
   "execution_count": null,
   "metadata": {},
   "outputs": [],
   "source": []
  }
 ],
 "metadata": {
  "kernelspec": {
   "display_name": "Python 3",
   "language": "python",
   "name": "python3"
  },
  "language_info": {
   "codemirror_mode": {
    "name": "ipython",
    "version": 3
   },
   "file_extension": ".py",
   "mimetype": "text/x-python",
   "name": "python",
   "nbconvert_exporter": "python",
   "pygments_lexer": "ipython3",
   "version": "3.8.3"
  }
 },
 "nbformat": 4,
 "nbformat_minor": 4
}
